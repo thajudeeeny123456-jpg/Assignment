{
 "cells": [
  {
   "cell_type": "markdown",
   "id": "5ae0cf8c-b392-4ed6-816c-38406f7fd453",
   "metadata": {},
   "source": [
    "# Operation on list"
   ]
  },
  {
   "cell_type": "markdown",
   "id": "706e0777-3126-4ce1-adda-011e79ce7221",
   "metadata": {},
   "source": [
    "####  Create a List"
   ]
  },
  {
   "cell_type": "code",
   "execution_count": 1,
   "id": "21aa8c50-2e5a-498f-8566-da59859eebac",
   "metadata": {},
   "outputs": [
    {
     "name": "stdout",
     "output_type": "stream",
     "text": [
      "Created List: [19, 44, 41, 67, 56]\n"
     ]
    }
   ],
   "source": [
    "my_list = [19, 44, 41, 67, 56]\n",
    "print(\"Created List:\", my_list)"
   ]
  },
  {
   "cell_type": "markdown",
   "id": "f42f3733-2aa7-43d0-aeec-2547c8ff031d",
   "metadata": {},
   "source": [
    "#### Append an Element"
   ]
  },
  {
   "cell_type": "code",
   "execution_count": 2,
   "id": "681b1cae-5c00-42c3-843c-11a136a19569",
   "metadata": {},
   "outputs": [
    {
     "name": "stdout",
     "output_type": "stream",
     "text": [
      "After Append: [19, 44, 41, 67, 56, 66]\n"
     ]
    }
   ],
   "source": [
    "my_list.append(66)\n",
    "print(\"After Append:\", my_list)"
   ]
  },
  {
   "cell_type": "markdown",
   "id": "fbb9bb21-9e4d-4ce3-835b-6671c5e7c13a",
   "metadata": {},
   "source": [
    "####  Insert an Element"
   ]
  },
  {
   "cell_type": "code",
   "execution_count": 3,
   "id": "f2bb29f7-e81c-4551-8dca-40b53073c9ee",
   "metadata": {},
   "outputs": [
    {
     "name": "stdout",
     "output_type": "stream",
     "text": [
      "After Insert: [19, 44, 9, 41, 67, 56, 66]\n"
     ]
    }
   ],
   "source": [
    "my_list.insert(2, 9)  \n",
    "print(\"After Insert:\", my_list)"
   ]
  },
  {
   "cell_type": "markdown",
   "id": "c44e5eaf-5a33-45bd-912a-33a1248ba9f6",
   "metadata": {},
   "source": [
    "####  Remove an Element"
   ]
  },
  {
   "cell_type": "code",
   "execution_count": 4,
   "id": "898ebf0e-f915-4d97-b33b-d0d50206e12d",
   "metadata": {},
   "outputs": [
    {
     "name": "stdout",
     "output_type": "stream",
     "text": [
      "After Remove: [19, 44, 9, 41, 67, 66]\n"
     ]
    }
   ],
   "source": [
    "my_list.remove(56)\n",
    "print(\"After Remove:\", my_list)"
   ]
  },
  {
   "cell_type": "markdown",
   "id": "210d18b3-6353-4748-af53-e99647d13aff",
   "metadata": {},
   "source": [
    "####  Reverse the List"
   ]
  },
  {
   "cell_type": "code",
   "execution_count": 5,
   "id": "c1e2a510-032e-420e-9a8d-736a902c68a1",
   "metadata": {},
   "outputs": [
    {
     "name": "stdout",
     "output_type": "stream",
     "text": [
      "After Reverse: [66, 67, 41, 9, 44, 19]\n"
     ]
    }
   ],
   "source": [
    "my_list.reverse()\n",
    "print(\"After Reverse:\", my_list)"
   ]
  },
  {
   "cell_type": "markdown",
   "id": "a444c3fc-72eb-4090-8f84-bdbb2ea5e3be",
   "metadata": {},
   "source": [
    "# Operation on tuple"
   ]
  },
  {
   "cell_type": "markdown",
   "id": "5c6e0b38-fdd2-4472-95fb-193c75841e75",
   "metadata": {},
   "source": [
    "#### Create a Tuple"
   ]
  },
  {
   "cell_type": "code",
   "execution_count": 6,
   "id": "65d85a6c-6c6b-4b84-a3ab-ced1bd46eecd",
   "metadata": {},
   "outputs": [
    {
     "name": "stdout",
     "output_type": "stream",
     "text": [
      "Created Tuple: (56, 67, 17, 90, 36)\n"
     ]
    }
   ],
   "source": [
    "my_tuple = (56,67,17,90,36)\n",
    "print(\"Created Tuple:\", my_tuple)"
   ]
  },
  {
   "cell_type": "markdown",
   "id": "9942d20b-6d40-40d4-8831-b42191fa0a86",
   "metadata": {},
   "source": [
    "#### Access an Element"
   ]
  },
  {
   "cell_type": "code",
   "execution_count": 7,
   "id": "e383555b-8a18-4af1-9f2b-5d022c919400",
   "metadata": {},
   "outputs": [
    {
     "name": "stdout",
     "output_type": "stream",
     "text": [
      "Element at index 1: 67\n"
     ]
    }
   ],
   "source": [
    "print(\"Element at index 1:\", my_tuple[1])"
   ]
  },
  {
   "cell_type": "markdown",
   "id": "1a7a3b9a-d8cb-4bdb-bc35-55b790f765e3",
   "metadata": {},
   "source": [
    "#### Concatenate Tuples"
   ]
  },
  {
   "cell_type": "code",
   "execution_count": 8,
   "id": "056808cf-fda6-4736-895f-544d48ca821e",
   "metadata": {},
   "outputs": [
    {
     "name": "stdout",
     "output_type": "stream",
     "text": [
      "After Concatenation: (56, 67, 17, 90, 36, 62, 87)\n"
     ]
    }
   ],
   "source": [
    "new_tuple = my_tuple + (62, 87)\n",
    "print(\"After Concatenation:\", new_tuple)"
   ]
  },
  {
   "cell_type": "markdown",
   "id": "838b9c66-ce86-48e5-a9a1-82845982b9cc",
   "metadata": {},
   "source": [
    "#### Repeat the Tuple"
   ]
  },
  {
   "cell_type": "code",
   "execution_count": 9,
   "id": "6744903e-fb3b-4bd0-8c40-5bce2c17a3f7",
   "metadata": {},
   "outputs": [
    {
     "name": "stdout",
     "output_type": "stream",
     "text": [
      "After Repetition: (56, 67, 17, 90, 36, 56, 67, 17, 90, 36, 56, 67, 17, 90, 36)\n"
     ]
    }
   ],
   "source": [
    "repeat_tuple = my_tuple * 3\n",
    "print(\"After Repetition:\", repeat_tuple)"
   ]
  },
  {
   "cell_type": "markdown",
   "id": "c9ea9204-9d7d-493d-92a9-9b83ecb364a3",
   "metadata": {},
   "source": [
    "#### Find Maximum Value"
   ]
  },
  {
   "cell_type": "code",
   "execution_count": 10,
   "id": "4e769284-743e-464c-a2e7-2b7e3f0bd8af",
   "metadata": {},
   "outputs": [
    {
     "name": "stdout",
     "output_type": "stream",
     "text": [
      "Maximum Value in Tuple: 90\n"
     ]
    }
   ],
   "source": [
    "print(\"Maximum Value in Tuple:\", max(my_tuple))"
   ]
  },
  {
   "cell_type": "markdown",
   "id": "093053c5-c6c0-4698-95ac-a93fc9cd0901",
   "metadata": {},
   "source": [
    "# Operation on set"
   ]
  },
  {
   "cell_type": "markdown",
   "id": "a37fe044-9c85-47a6-9dfe-586ba28a11f2",
   "metadata": {},
   "source": [
    "#### Create a Set"
   ]
  },
  {
   "cell_type": "code",
   "execution_count": 43,
   "id": "8d06f2c1-d010-40e3-93e8-388bc1060b06",
   "metadata": {},
   "outputs": [
    {
     "name": "stdout",
     "output_type": "stream",
     "text": [
      "Created Set: {17, 18, 35, 56, 89}\n"
     ]
    }
   ],
   "source": [
    "my_set = {18,56,89,35,17}\n",
    "print(\"Created Set:\", my_set)"
   ]
  },
  {
   "cell_type": "markdown",
   "id": "32e47083-152d-4d99-a03e-7b4e03311966",
   "metadata": {},
   "source": [
    "#### Add an Element"
   ]
  },
  {
   "cell_type": "code",
   "execution_count": 44,
   "id": "fd4cc32d-e6cd-48b4-801d-a32b63f80bcb",
   "metadata": {},
   "outputs": [
    {
     "name": "stdout",
     "output_type": "stream",
     "text": [
      "After Add: {17, 18, 35, 55, 56, 89}\n"
     ]
    }
   ],
   "source": [
    "my_set.add(55)\n",
    "print(\"After Add:\", my_set)"
   ]
  },
  {
   "cell_type": "markdown",
   "id": "a403a69e-5bcd-4f6a-a8b1-ad3815326924",
   "metadata": {},
   "source": [
    "#### Remove an Element"
   ]
  },
  {
   "cell_type": "code",
   "execution_count": 45,
   "id": "ea83f999-58a8-4f75-bb33-e5d12f05c9ec",
   "metadata": {},
   "outputs": [
    {
     "name": "stdout",
     "output_type": "stream",
     "text": [
      "After Remove: {17, 18, 55, 56, 89}\n"
     ]
    }
   ],
   "source": [
    "my_set.remove(35)\n",
    "print(\"After Remove:\", my_set)"
   ]
  },
  {
   "cell_type": "markdown",
   "id": "0c887c9e-7c4c-4784-b791-e2b4708db83b",
   "metadata": {},
   "source": [
    "#### Union of Sets"
   ]
  },
  {
   "cell_type": "code",
   "execution_count": 46,
   "id": "e6e0adb1-982e-4e1a-88e7-741b8410fc4d",
   "metadata": {},
   "outputs": [
    {
     "name": "stdout",
     "output_type": "stream",
     "text": [
      "After Union: {17, 18, 65, 85, 55, 56, 89}\n"
     ]
    }
   ],
   "source": [
    "new_set = {65, 17, 85}\n",
    "union_set = my_set.union(new_set)\n",
    "print(\"After Union:\", union_set)"
   ]
  },
  {
   "cell_type": "markdown",
   "id": "f0fe231e-cf10-4460-9d26-3c8c37ded688",
   "metadata": {},
   "source": [
    "#### Intersection of Sets"
   ]
  },
  {
   "cell_type": "code",
   "execution_count": 42,
   "id": "cd3dfb40-cfda-4630-8077-8b16d7d9a09d",
   "metadata": {},
   "outputs": [
    {
     "name": "stdout",
     "output_type": "stream",
     "text": [
      "After Intersection: {56, 18}\n"
     ]
    }
   ],
   "source": [
    "inter_set = my_set.intersection({18,56,85})\n",
    "print(\"After Intersection:\", inter_set)"
   ]
  },
  {
   "cell_type": "markdown",
   "id": "46567451-6843-4270-8401-68b23549cecb",
   "metadata": {},
   "source": [
    "# Operation on dictionary"
   ]
  },
  {
   "cell_type": "markdown",
   "id": "6427d8b9-89e3-47e4-b16f-d172a089aa81",
   "metadata": {},
   "source": [
    "#### Create a Dictionary"
   ]
  },
  {
   "cell_type": "code",
   "execution_count": 27,
   "id": "a775617c-2b22-4f90-b67b-4addaa52df6d",
   "metadata": {},
   "outputs": [
    {
     "name": "stdout",
     "output_type": "stream",
     "text": [
      "Created Dictionary: {'roll': 1240120121055, 'name': 'Yaheya', 'dept': 'CSE'}\n"
     ]
    }
   ],
   "source": [
    "my_dict = {\"roll\": 1240120121055, \"name\": \"Yaheya\", \"dept\": \"CSE\"}\n",
    "print(\"Created Dictionary:\", my_dict)"
   ]
  },
  {
   "cell_type": "markdown",
   "id": "109a4c57-ba9e-4882-a23a-503ba872df01",
   "metadata": {},
   "source": [
    "#### Add a New Key-Value Pair"
   ]
  },
  {
   "cell_type": "code",
   "execution_count": 28,
   "id": "1811ca8a-e574-47fa-9c59-108147f8fcf8",
   "metadata": {},
   "outputs": [
    {
     "name": "stdout",
     "output_type": "stream",
     "text": [
      "After Adding: {'roll': 1240120121055, 'name': 'Yaheya', 'dept': 'CSE', 'year': 2025}\n"
     ]
    }
   ],
   "source": [
    "my_dict[\"year\"] = 2025\n",
    "print(\"After Adding:\", my_dict)"
   ]
  },
  {
   "cell_type": "markdown",
   "id": "71afcd43-0133-439e-bf05-224c843401dc",
   "metadata": {},
   "source": [
    "#### Update a Value"
   ]
  },
  {
   "cell_type": "code",
   "execution_count": 29,
   "id": "02901fb6-bcd1-48d6-86c0-2b253d5a386c",
   "metadata": {},
   "outputs": [
    {
     "name": "stdout",
     "output_type": "stream",
     "text": [
      "After Update: {'roll': 1240120121055, 'name': 'Thoufic', 'dept': 'CSE', 'year': 2025}\n"
     ]
    }
   ],
   "source": [
    "my_dict[\"name\"] = \"Thoufic\"\n",
    "print(\"After Update:\", my_dict)"
   ]
  },
  {
   "cell_type": "markdown",
   "id": "bb83c7bf-776e-433b-b529-230d629e8270",
   "metadata": {},
   "source": [
    "#### Remove a Key-Value Pair"
   ]
  },
  {
   "cell_type": "code",
   "execution_count": 30,
   "id": "56466166-cd33-4fae-a274-be70212e6604",
   "metadata": {},
   "outputs": [
    {
     "name": "stdout",
     "output_type": "stream",
     "text": [
      "After Remove: {'roll': 1240120121055, 'name': 'Thoufic', 'year': 2025}\n"
     ]
    }
   ],
   "source": [
    "my_dict.pop(\"dept\")\n",
    "print(\"After Remove:\", my_dict)"
   ]
  },
  {
   "cell_type": "markdown",
   "id": "f8772a99-6c96-4592-851a-a886813fd590",
   "metadata": {},
   "source": [
    "#### Get All Keys"
   ]
  },
  {
   "cell_type": "code",
   "execution_count": 31,
   "id": "20561364-0f6a-4192-9b09-374a6c2b1ad4",
   "metadata": {},
   "outputs": [
    {
     "name": "stdout",
     "output_type": "stream",
     "text": [
      "All Keys: dict_keys(['roll', 'name', 'year'])\n"
     ]
    }
   ],
   "source": [
    "print(\"All Keys:\", my_dict.keys())"
   ]
  }
 ],
 "metadata": {
  "kernelspec": {
   "display_name": "Python 3 (ipykernel)",
   "language": "python",
   "name": "python3"
  },
  "language_info": {
   "codemirror_mode": {
    "name": "ipython",
    "version": 3
   },
   "file_extension": ".py",
   "mimetype": "text/x-python",
   "name": "python",
   "nbconvert_exporter": "python",
   "pygments_lexer": "ipython3",
   "version": "3.13.5"
  }
 },
 "nbformat": 4,
 "nbformat_minor": 5
}
